{
 "cells": [
  {
   "cell_type": "markdown",
   "metadata": {
    "id": "_kwAaQ36gLQ1"
   },
   "source": [
    "# Sobre o notebook\n",
    "\n",
    "A \"hora da prática\" é uma atividade do curso de Python para Data Science da Alura que contém diversos desafios envolvendo os aprendizados de cada aula.\n",
    "\n",
    "O notebook \"hora da pratica\" é um notebook construído com espaço para as células dos desafios propostos no curso, com ele você tem espaço para construir e executar suas soluções"
   ]
  },
  {
   "cell_type": "markdown",
   "metadata": {
    "id": "Mc-KN0dA0Z83"
   },
   "source": [
    "## Aula 1 - Introdução ao Python"
   ]
  },
  {
   "cell_type": "markdown",
   "metadata": {
    "id": "l5eLWf0W0ikn"
   },
   "source": [
    "### Questão 1\n",
    "\n",
    "Imprima a frase `Escola de Dados da Alura!`"
   ]
  },
  {
   "cell_type": "code",
   "execution_count": 1,
   "metadata": {
    "id": "5pllxJ0h0-yA"
   },
   "outputs": [
    {
     "name": "stdout",
     "output_type": "stream",
     "text": [
      "Escola de dados da alura\n"
     ]
    }
   ],
   "source": [
    "print('Escola de dados da alura')"
   ]
  },
  {
   "cell_type": "markdown",
   "metadata": {
    "id": "tQdX90Ue03c7"
   },
   "source": [
    "### Questão 2\n",
    "Imprima na tela seu nome e seu sobrenome seguindo a estrutura abaixo:\n",
    "```\n",
    "Nome: [seu nome]\n",
    "Sobrenome: [seu sobrenome]\n",
    "```\n"
   ]
  },
  {
   "cell_type": "code",
   "execution_count": 5,
   "metadata": {
    "id": "RVw5iKn20_Ps"
   },
   "outputs": [
    {
     "name": "stdout",
     "output_type": "stream",
     "text": [
      "Nome: Jefferson\n",
      "Sobrenome: franca Ferreira\n"
     ]
    }
   ],
   "source": [
    "nome = 'Jefferson'\n",
    "sobrenome = 'franca Ferreira'\n",
    "\n",
    "print(f'Nome: {nome}')\n",
    "print(f'Sobrenome: {sobrenome}')"
   ]
  },
  {
   "cell_type": "markdown",
   "metadata": {
    "id": "gfg-aiip03vC"
   },
   "source": [
    "### Questão 3\n",
    "Imprima o seu primeiro nome letra a letra. Por exemplo, nome é Mirla, então eu obtenho a seguinte saída:\n",
    "```\n",
    "M\n",
    "I\n",
    "R\n",
    "L\n",
    "A\n",
    "```\n"
   ]
  },
  {
   "cell_type": "code",
   "execution_count": 6,
   "metadata": {
    "id": "v5bkrgf60_qx"
   },
   "outputs": [
    {
     "name": "stdout",
     "output_type": "stream",
     "text": [
      "M\n",
      "I\n",
      "R\n",
      "L\n",
      "A\n"
     ]
    }
   ],
   "source": [
    "print('M')\n",
    "print('I')\n",
    "print('R')\n",
    "print('L')\n",
    "print('A')"
   ]
  },
  {
   "cell_type": "markdown",
   "metadata": {
    "id": "oadrJbl704MM"
   },
   "source": [
    "### Questão 4\n",
    "Imprima o dia do seu nascimento em formato `dia mês ano`. Os valores de dia e ano não podem estar entre aspas. O formato deve estar como no exemplo, supondo uma data de aniversário dia 28 de fevereiro de 2003:\n",
    "```\n",
    "28 fevereiro 2003\n",
    "```"
   ]
  },
  {
   "cell_type": "code",
   "execution_count": 7,
   "metadata": {
    "id": "cx0KSsrq1ALD"
   },
   "outputs": [
    {
     "name": "stdout",
     "output_type": "stream",
     "text": [
      "28 fevereiro 2003\n"
     ]
    }
   ],
   "source": [
    "dia = 28 \n",
    "mes = 'fevereiro'\n",
    "ano = 2003\n",
    "\n",
    "print(f'{dia} {mes} {ano}')"
   ]
  },
  {
   "cell_type": "markdown",
   "metadata": {
    "id": "3RgyMaan04TD"
   },
   "source": [
    "### Questão 5\n",
    "Imprima em um único print o atual ano que você está fazendo esse curso, o valor do ano deve ser um dado numérico. A saída do print deve ser a seguinte:\n",
    "```\n",
    "Ano atual: [ano]\n",
    "```\n"
   ]
  },
  {
   "cell_type": "code",
   "execution_count": 15,
   "metadata": {
    "id": "UN77EfQ2d36Y"
   },
   "outputs": [
    {
     "name": "stdout",
     "output_type": "stream",
     "text": [
      "Ano atual: 2025\n"
     ]
    }
   ],
   "source": [
    "ano_atual = 2025\n",
    "\n",
    "print(f'Ano atual: {ano_atual}')"
   ]
  },
  {
   "cell_type": "markdown",
   "metadata": {
    "id": "D9e3FqhO1S3X"
   },
   "source": [
    "## Aula 2 - Manipulando dados no Python"
   ]
  },
  {
   "cell_type": "markdown",
   "metadata": {
    "id": "n6o7C1Ze2cRe"
   },
   "source": [
    "### Coleta e amostragem de dados"
   ]
  },
  {
   "cell_type": "markdown",
   "metadata": {
    "id": "sRneWag9PV5Q"
   },
   "source": [
    "#### Questão 1\n",
    "Crie um programa que solicite à pessoa usuária digitar seu nome, e imprima “Olá, [nome]!”."
   ]
  },
  {
   "cell_type": "code",
   "execution_count": 16,
   "metadata": {
    "id": "dbX1fKqy2HnE"
   },
   "outputs": [
    {
     "name": "stdout",
     "output_type": "stream",
     "text": [
      "qual é seu nome; Jefferson\n",
      "olá, Jefferson!\n"
     ]
    }
   ],
   "source": [
    "nome = input ('qual é seu nome; ')\n",
    "\n",
    "print(f'olá, {nome}!')"
   ]
  },
  {
   "cell_type": "markdown",
   "metadata": {
    "id": "BJ1SznEp70d5"
   },
   "source": [
    "#### Questão 2\n",
    "Crie um programa que solicite à pessoa usuária digitar seu nome e idade, e imprima “Olá, [nome], você tem [idade] anos.”."
   ]
  },
  {
   "cell_type": "code",
   "execution_count": 17,
   "metadata": {
    "id": "jKz-0Sq8PFkp"
   },
   "outputs": [
    {
     "name": "stdout",
     "output_type": "stream",
     "text": [
      "Qual é sue nome: jefferson\n",
      "Olá, jefferson, você tem 37, anos.\n"
     ]
    }
   ],
   "source": [
    "nome = input ('Qual é sue nome: ')\n",
    "idade = 37\n",
    "\n",
    "print(f'Olá, {nome}, você tem {idade}, anos.')"
   ]
  },
  {
   "cell_type": "markdown",
   "metadata": {
    "id": "2T0jNYZt70aa"
   },
   "source": [
    "#### Questão 3\n",
    "Crie um programa que solicite à pessoa usuária digitar seu nome, idade e altura em metros, e imprima “Olá, [nome], você tem [idade] anos e mede [altura] metros!”."
   ]
  },
  {
   "cell_type": "code",
   "execution_count": 19,
   "metadata": {
    "id": "pI4kHNzTPIXh"
   },
   "outputs": [
    {
     "name": "stdout",
     "output_type": "stream",
     "text": [
      "Qual é seu nomejefferson\n",
      "Olá, jefferson, você tem 37, e mede 1.75, metros!\n"
     ]
    }
   ],
   "source": [
    "nome = input ('Qual é seu nome')\n",
    "idade = 37\n",
    "mede = 1.75\n",
    "\n",
    "print(f'Olá, {nome}, você tem {idade}, e mede {mede}, metros!')"
   ]
  },
  {
   "cell_type": "markdown",
   "metadata": {
    "id": "mEBFwKkC70KP"
   },
   "source": [
    "### Calculadora com operadores"
   ]
  },
  {
   "cell_type": "markdown",
   "metadata": {
    "id": "H-IV1oAPPSqK"
   },
   "source": [
    "#### Questão 1\n",
    "\n",
    "Crie um programa que solicite dois valores numéricos à pessoa usuária e imprima a soma dos dois valores."
   ]
  },
  {
   "cell_type": "code",
   "execution_count": 21,
   "metadata": {
    "id": "Zb0W84sy8rnp"
   },
   "outputs": [
    {
     "name": "stdout",
     "output_type": "stream",
     "text": [
      "66\n"
     ]
    }
   ],
   "source": [
    "p1 = 10\n",
    "p2 = 56\n",
    "print (p1 + p2)"
   ]
  },
  {
   "cell_type": "markdown",
   "metadata": {
    "id": "LUoi2MOu70Em"
   },
   "source": [
    "#### Questão 2\n",
    "Crie um programa que solicite três valores numéricos à pessoa usuária e imprima a soma dos três valores."
   ]
  },
  {
   "cell_type": "code",
   "execution_count": 23,
   "metadata": {
    "id": "4FYjWyBS8rDm"
   },
   "outputs": [
    {
     "name": "stdout",
     "output_type": "stream",
     "text": [
      "115\n"
     ]
    }
   ],
   "source": [
    "p1 = 24\n",
    "p2 = 35\n",
    "p3 = 56\n",
    "print (p1 + p2 + p3)"
   ]
  },
  {
   "cell_type": "markdown",
   "metadata": {
    "id": "lezGctF07z8i"
   },
   "source": [
    "#### Questão 3\n",
    "Crie um programa que solicite dois valores numéricos à pessoa usuária e imprima a subtração do primeiro pelo o segundo valor."
   ]
  },
  {
   "cell_type": "code",
   "execution_count": 24,
   "metadata": {
    "id": "k0GE1z4w8p3J"
   },
   "outputs": [
    {
     "name": "stdout",
     "output_type": "stream",
     "text": [
      "12\n"
     ]
    }
   ],
   "source": [
    "P1 = 24\n",
    "p2 = 12\n",
    "print(p1 - p2)"
   ]
  },
  {
   "cell_type": "markdown",
   "metadata": {
    "id": "wwMP-dPU7zxW"
   },
   "source": [
    "#### Questão 4\n",
    "\n",
    "Crie um programa que solicite dois valores numéricos à pessoa usuária e imprima a multiplicação dos dois valores.\n"
   ]
  },
  {
   "cell_type": "code",
   "execution_count": 25,
   "metadata": {
    "id": "GzFCVHfp8peZ"
   },
   "outputs": [
    {
     "name": "stdout",
     "output_type": "stream",
     "text": [
      "124\n"
     ]
    }
   ],
   "source": [
    "P1 = 87\n",
    "p2 = 100\n",
    "print(p1 + p2)"
   ]
  },
  {
   "cell_type": "markdown",
   "metadata": {
    "id": "9kxyHxUo7zRD"
   },
   "source": [
    "#### Questão 5\n",
    "\n",
    "Crie um programa que solicite dois valores numéricos, um numerador e um denominador, e realize a divisão entre os dois valores. Deixe claro que o valor do denominador não pode ser `0`.\n"
   ]
  },
  {
   "cell_type": "code",
   "execution_count": 28,
   "metadata": {
    "id": "ytJ8l5KH8ozc"
   },
   "outputs": [
    {
     "name": "stdout",
     "output_type": "stream",
     "text": [
      "Digite o numerador: 10\n",
      "Digite denominador(não pede ser 0): 0\n",
      "Erro: O denominador não pode ser 0.\n"
     ]
    }
   ],
   "source": [
    "numerador = float(input('Digite o numerador: '))\n",
    "denominador = float(input('Digite denominador(não pede ser 0): '))\n",
    "\n",
    "if denominador !=0:\n",
    "    resultado = numerador / denominador\n",
    "    print(f'O denominador da divisão é: {resultado}')\n",
    "else:\n",
    "    print('Erro: O denominador não pode ser 0.')"
   ]
  },
  {
   "cell_type": "markdown",
   "metadata": {
    "id": "zkUSBTQq8Hxt"
   },
   "source": [
    "#### Questão 6\n",
    "\n",
    "Crie um programa que solicite dois valores numéricos, um operador e uma potência, e realize a exponenciação entre esses dois valores.\n"
   ]
  },
  {
   "cell_type": "code",
   "execution_count": 31,
   "metadata": {
    "id": "RPj36jq08oZp"
   },
   "outputs": [
    {
     "name": "stdout",
     "output_type": "stream",
     "text": [
      "Digite o número base: 10\n",
      "Digite o número expoente: 10\n",
      "O resultado de 10.0 elevado a 10.0 é: 10000000000.0\n"
     ]
    }
   ],
   "source": [
    "base = float(input('Digite o número base: '))\n",
    "expoente = float(input('Digite o número expoente: '))\n",
    "\n",
    "resultado = (base ** expoente)\n",
    "\n",
    "print(f'O resultado de {base} elevado a {expoente} é: {resultado}')\n"
   ]
  },
  {
   "cell_type": "markdown",
   "metadata": {
    "id": "yiunIusZ8Huj"
   },
   "source": [
    "#### Questão 7\n",
    "Crie um programa que solicite dois valores numéricos, um numerador e um denominador e realize a divisão inteira entre os dois valores. Deixe claro que o valor do denominador não pode ser `0`."
   ]
  },
  {
   "cell_type": "code",
   "execution_count": 38,
   "metadata": {
    "id": "UHK8xITf8oCg"
   },
   "outputs": [
    {
     "name": "stdout",
     "output_type": "stream",
     "text": [
      "Digite o número numerador: 24\n",
      "Digite o número denominador: 5\n",
      "o resultado do numerador é: 4\n"
     ]
    }
   ],
   "source": [
    "numerador = int(input('Digite o número numerador: '))\n",
    "denominador = int(input('Digite o número denominador: '))\n",
    "\n",
    "if denominador !=0:\n",
    "    resultado = int(numerador / denominador)\n",
    "    print(f'o resultado do numerador é: {resultado}')\n",
    "else:\n",
    "    print(f'Erro: O denominador não pode ser 0.')"
   ]
  },
  {
   "cell_type": "markdown",
   "metadata": {
    "id": "z_D_JiLX8Hra"
   },
   "source": [
    "#### Questão 8\n",
    "\n",
    "Crie um programa que solicite dois valores numéricos, um numerador e um denominador, e retorne o resto da divisão entre os dois valores. Deixe claro que o valor do denominador não pode ser `0`."
   ]
  },
  {
   "cell_type": "code",
   "execution_count": 3,
   "metadata": {
    "id": "EWGJeukO8nqx"
   },
   "outputs": [
    {
     "name": "stdout",
     "output_type": "stream",
     "text": [
      "Digite o número numerador: 17\n",
      "Digite o número denominador: 1\n",
      "O resto da divisão entre 17.0 e 1.0 é 0.0.\n"
     ]
    }
   ],
   "source": [
    "numerador = float(input('Digite o número numerador: '))\n",
    "denominador = float(input('Digite o número denominador: '))\n",
    "\n",
    "if denominador != 0:\n",
    "    resto = numerador % denominador\n",
    "    print(f'O resto da divisão entre {numerador} e {denominador} é {resto}.')\n",
    "else:\n",
    "    print('Erro: o denominador não poder ser zero.')"
   ]
  },
  {
   "cell_type": "markdown",
   "metadata": {
    "id": "RDRajNkU8N8N"
   },
   "source": [
    "#### Questão 9\n",
    "\n",
    "Crie um código que solicita 3 notas de um estudante e imprima a média das notas."
   ]
  },
  {
   "cell_type": "code",
   "execution_count": 6,
   "metadata": {
    "id": "H6F4Ojzt8nSR"
   },
   "outputs": [
    {
     "name": "stdout",
     "output_type": "stream",
     "text": [
      "Digite 1° nota: 7\n",
      "Digite 2° nota: 5\n",
      "Digite 3° nota: 9\n",
      "Média da nota do estudante é:  7.00\n"
     ]
    }
   ],
   "source": [
    "nota_1 = float(input('Digite 1° nota: '))\n",
    "nota_2 = float(input('Digite 2° nota: '))\n",
    "nota_3 = float(input('Digite 3° nota: '))\n",
    "\n",
    "media = (nota_1 + nota_2 + nota_3) / 3\n",
    "\n",
    "print(f'Média da nota do estudante é: {media: .2f}')"
   ]
  },
  {
   "cell_type": "markdown",
   "metadata": {
    "id": "d7fjkne58N21"
   },
   "source": [
    "#### Questão 10\n",
    "\n",
    "Crie um código que calcule e imprima a média ponderada dos números 5, 12, 20 e 15 com pesos respectivamente iguais a 1, 2, 3 e 4."
   ]
  },
  {
   "cell_type": "code",
   "execution_count": 11,
   "metadata": {
    "id": "fwjoHlV48mkv"
   },
   "outputs": [
    {
     "name": "stdout",
     "output_type": "stream",
     "text": [
      "A média ponderada é:  14.90\n"
     ]
    }
   ],
   "source": [
    "numeros = [5, 12, 20, 15]\n",
    "pesos = [1, 2, 3, 4]\n",
    "\n",
    "somatorio_ponderado = sum(numero * peso for numero, peso in zip(numeros, pesos))\n",
    "\n",
    "soma_pesos = sum(pesos)\n",
    "media_ponderada = somatorio_ponderado / soma_pesos\n",
    "\n",
    "print(f'A média ponderada é: {media_ponderada: .2f}')"
   ]
  },
  {
   "cell_type": "markdown",
   "metadata": {
    "id": "GNmbX1OU8N0V"
   },
   "source": [
    "### Editando textos"
   ]
  },
  {
   "cell_type": "markdown",
   "metadata": {
    "id": "6wZ85mCsRCV0"
   },
   "source": [
    "#### Questão 1\n",
    "\n",
    "Crie uma variável chamada “`frase`” e atribua a ela uma string de sua escolha. Em seguida, imprima a frase na tela."
   ]
  },
  {
   "cell_type": "code",
   "execution_count": 12,
   "metadata": {
    "id": "eRqr_gh-8mFy"
   },
   "outputs": [
    {
     "data": {
      "text/plain": [
       "'A tecnologia aproxima pessoas e possibilidades.'"
      ]
     },
     "execution_count": 12,
     "metadata": {},
     "output_type": "execute_result"
    }
   ],
   "source": [
    "frase = 'A tecnologia aproxima pessoas e possibilidades.'\n",
    "frase"
   ]
  },
  {
   "cell_type": "markdown",
   "metadata": {
    "id": "Aac17z-18Nwv"
   },
   "source": [
    "#### Questão 2\n",
    "Crie um código que solicite uma frase e depois imprima a frase na tela."
   ]
  },
  {
   "cell_type": "code",
   "execution_count": 19,
   "metadata": {
    "id": "8zfE2hh98lb0"
   },
   "outputs": [
    {
     "name": "stdout",
     "output_type": "stream",
     "text": [
      "Digete uma frase: A tecnologia aproxima pessoas e possibilidades.\n",
      "A frase digitada foi: A tecnologia aproxima pessoas e possibilidades.\n"
     ]
    }
   ],
   "source": [
    "frase = input('Digete uma frase: ')\n",
    "print(f'A frase digitada foi: {frase}')"
   ]
  },
  {
   "cell_type": "markdown",
   "metadata": {
    "id": "DXVzqpN58Ntr"
   },
   "source": [
    "#### Questão 3\n",
    "\n",
    "Crie um código que solicite uma frase à pessoa usuária e imprima a mesma frase digitada mas com todas as letras maiúsculas."
   ]
  },
  {
   "cell_type": "code",
   "execution_count": 20,
   "metadata": {
    "id": "d0VzoYP68k-I"
   },
   "outputs": [
    {
     "name": "stdout",
     "output_type": "stream",
     "text": [
      "Frase toda maiúsculas: A TECNOLOGIA APROXIMA PESSOAS E POSSIBILIDADES.\n"
     ]
    }
   ],
   "source": [
    "frase = 'A tecnologia aproxima pessoas e possibilidades.'\n",
    "print(f'Frase toda maiúsculas: {frase.upper()}')"
   ]
  },
  {
   "cell_type": "markdown",
   "metadata": {
    "id": "I12VeNPK8Nqb"
   },
   "source": [
    "#### Questão 4\n",
    "\n",
    "Crie um código que solicite uma frase à pessoa usuária e imprima a mesma frase digitada mas com todas as letras minúsculas."
   ]
  },
  {
   "cell_type": "code",
   "execution_count": 22,
   "metadata": {
    "id": "KD8rNy2K8kox"
   },
   "outputs": [
    {
     "name": "stdout",
     "output_type": "stream",
     "text": [
      "Frase toda minúsculas: a tecnologia aproxima pessoas e possibilidades.\n"
     ]
    }
   ],
   "source": [
    "frase = 'A tecnologia aproxima pessoas e possibilidades.'\n",
    "print(f'Frase toda minúsculas: {frase.lower()}')"
   ]
  },
  {
   "cell_type": "markdown",
   "metadata": {
    "id": "cRqngSE48Nog"
   },
   "source": [
    "#### Questão 5\n",
    "\n",
    "Crie uma variável chamada “`frase`” e atribua a ela uma string de sua escolha. Em seguida, imprima a frase sem espaços em branco no início e no fim."
   ]
  },
  {
   "cell_type": "code",
   "execution_count": 24,
   "metadata": {
    "id": "aSCpdF-o8kBs"
   },
   "outputs": [
    {
     "data": {
      "text/plain": [
       "'A tecnologia aproxima pessoas e possibilidades.'"
      ]
     },
     "execution_count": 24,
     "metadata": {},
     "output_type": "execute_result"
    }
   ],
   "source": [
    "frase.strip()"
   ]
  },
  {
   "cell_type": "markdown",
   "metadata": {
    "id": "murIazpQ8Nkv"
   },
   "source": [
    "#### Questão 6\n",
    "\n",
    "Crie um código que solicite uma frase à pessoa usuária e imprima a mesma frase sem espaços em branco no início e no fim."
   ]
  },
  {
   "cell_type": "code",
   "execution_count": 25,
   "metadata": {
    "id": "tHunjwuG8jNq"
   },
   "outputs": [
    {
     "name": "stdout",
     "output_type": "stream",
     "text": [
      "Digite uma frase: Olá, mundo!\n",
      "A frase sem espaço em branco é: Olá, mundo!\n"
     ]
    }
   ],
   "source": [
    "frase = input('Digite uma frase: ')\n",
    "\n",
    "frase_sem_espacos = frase.strip()\n",
    "\n",
    "print(f'A frase sem espaço em branco é: {frase_sem_espacos}')"
   ]
  },
  {
   "cell_type": "markdown",
   "metadata": {
    "id": "eRxc2OeX8Nh2"
   },
   "source": [
    "#### Questão 7\n",
    "\n",
    "\n",
    "Crie um código que solicite uma frase à pessoa usuária e imprima a mesma frase sem espaços em branco no início e no fim e em letras minúsculas."
   ]
  },
  {
   "cell_type": "code",
   "execution_count": 32,
   "metadata": {
    "id": "DYm0_UwS8ih6"
   },
   "outputs": [
    {
     "name": "stdout",
     "output_type": "stream",
     "text": [
      "Digite uma frase: Olá, Mundo!\n",
      "A frase formatada é: olá, mundo!\n"
     ]
    }
   ],
   "source": [
    "frase = input('Digite uma frase: ')\n",
    "\n",
    "frase_formatada = frase.strip().lower()\n",
    "\n",
    "\n",
    "print(f'A frase formatada é: {frase_formatada}')"
   ]
  },
  {
   "cell_type": "markdown",
   "metadata": {
    "id": "UKATLavs8NfI"
   },
   "source": [
    "#### Questão 8\n",
    "\n",
    "Crie um código que solicite uma frase à pessoa usuária e imprima a mesma frase com todas as vogais “`e`” trocadas pela letra “`f`”."
   ]
  },
  {
   "cell_type": "code",
   "execution_count": 34,
   "metadata": {
    "id": "k64C5G5S8iLO"
   },
   "outputs": [
    {
     "name": "stdout",
     "output_type": "stream",
     "text": [
      "A tfcnologia aproxima pfssoas f possibilidadfs\n"
     ]
    }
   ],
   "source": [
    "frase = 'A tecnologia aproxima pessoas e possibilidades'\n",
    "print(frase.replace('e', 'f'))"
   ]
  },
  {
   "cell_type": "markdown",
   "metadata": {
    "id": "n_1SPchw8NdG"
   },
   "source": [
    "#### Questão 9\n",
    "\n",
    "\n",
    "Crie um código que solicite uma frase à pessoa usuária e imprima a mesma frase com todas as vogais “`a`” trocadas pela caractere  “`@`”."
   ]
  },
  {
   "cell_type": "code",
   "execution_count": 35,
   "metadata": {
    "id": "msaDNm_p8h0D"
   },
   "outputs": [
    {
     "name": "stdout",
     "output_type": "stream",
     "text": [
      "A tecnologi@ @proxim@ pesso@s e possibilid@des\n"
     ]
    }
   ],
   "source": [
    "print(frase.replace('a', '@'))"
   ]
  },
  {
   "cell_type": "markdown",
   "metadata": {
    "id": "H3sTTjqI8Naa"
   },
   "source": [
    "#### Questão 10\n",
    "\n",
    "\n",
    "Crie um código que solicite uma frase à pessoa usuária e imprima a mesma frase com todas as consoantes “`s`” trocadas pelo caractere  “`$`”."
   ]
  },
  {
   "cell_type": "code",
   "execution_count": 36,
   "metadata": {
    "id": "RPBIsWT68e-1"
   },
   "outputs": [
    {
     "name": "stdout",
     "output_type": "stream",
     "text": [
      "A tecnologia aproxima pe$$oa$ e po$$ibilidade$\n"
     ]
    }
   ],
   "source": [
    "print(frase.replace('s', '$'))"
   ]
  },
  {
   "cell_type": "markdown",
   "metadata": {
    "id": "XGePe4GD2I59"
   },
   "source": [
    "## Aula 3 - Estruturas condicionais"
   ]
  },
  {
   "cell_type": "markdown",
   "metadata": {
    "id": "Pr9HTW0UHCdD"
   },
   "source": [
    "### Aquecendo na programação"
   ]
  },
  {
   "cell_type": "markdown",
   "metadata": {
    "id": "xBZHqhVg80Fy"
   },
   "source": [
    "#### Questão 1\n",
    "Escreva um programa que peça à pessoa usuária para fornecer dois números e exibir o número maior."
   ]
  },
  {
   "cell_type": "code",
   "execution_count": 4,
   "metadata": {
    "id": "GJlGnzjc-xyF"
   },
   "outputs": [
    {
     "name": "stdout",
     "output_type": "stream",
     "text": [
      "Digite o primeiro número: 6\n",
      "Digite o segundo número: 6\n",
      "Os números são iguais.\n"
     ]
    }
   ],
   "source": [
    "numero_1 = float(input('Digite o primeiro número: '))\n",
    "numero_2 = float(input('Digite o segundo número: '))\n",
    "\n",
    "if numero_1 > numero_2:\n",
    "    print(f'O maior número é {numero_1}')\n",
    "elif numero_2 > numero_1:\n",
    "    print(f'O maior número é {numero_2}')\n",
    "else:\n",
    "    print('Os números são iguais.')"
   ]
  },
  {
   "cell_type": "markdown",
   "metadata": {
    "id": "H4sgN7dyHNJF"
   },
   "source": [
    "#### Questão 2\n",
    "Escreva um programa que solicite o percentual de crescimento de produção de uma empresa e informe se houve um crescimento (porcentagem positiva) ou decrescimento (porcentagem negativa)."
   ]
  },
  {
   "cell_type": "code",
   "execution_count": 7,
   "metadata": {
    "id": "-2_Ry5XJ-yZW"
   },
   "outputs": [
    {
     "name": "stdout",
     "output_type": "stream",
     "text": [
      "Digite o percentual de crescimento da produçao (pode ser negativo): 0\n",
      "Não huve crescimento nem decrescimento na produçõ.\n"
     ]
    }
   ],
   "source": [
    "percentual_crescimento = float(input('Digite o percentual de crescimento da produçao (pode ser negativo): '))\n",
    "\n",
    "if percentual_crescimento > 0:\n",
    "    print('Houve um crescimento na produção.')\n",
    "elif percentual_crescimento < 0:\n",
    "    print('Houve um decrescimento na produção.')\n",
    "else:\n",
    "    print('Não huve crescimento nem decrescimento na produçõ.')"
   ]
  },
  {
   "cell_type": "markdown",
   "metadata": {
    "id": "a_mzNOBDHNny"
   },
   "source": [
    "#### Questão 3\n",
    "Escreva um programa que determine se uma letra fornecida pela pessoa usuária é uma vogal ou consoante."
   ]
  },
  {
   "cell_type": "code",
   "execution_count": 9,
   "metadata": {
    "id": "NbgndVyg-zFJ"
   },
   "outputs": [
    {
     "name": "stdout",
     "output_type": "stream",
     "text": [
      "Digite uma letra: j\n",
      "A letra fornecida é uma consoante.\n"
     ]
    }
   ],
   "source": [
    "# Solicitar ao usuário uma letra\n",
    "letra = input(\"Digite uma letra: \").lower()\n",
    "\n",
    "# Verificar se a entrada é válida (apenas uma letra)\n",
    "if len(letra) == 1 and letra.isalpha():\n",
    "    \n",
    "    # Determinar se é uma vogal ou consoante\n",
    "    if letra in 'aeiou':\n",
    "        print(\"A letra fornecida é uma vogal.\")\n",
    "    else:\n",
    "        print(\"A letra fornecida é uma consoante.\")\n",
    "else:\n",
    "    print(\"Por favor, digite apenas uma letra válida.\")\n"
   ]
  },
  {
   "cell_type": "markdown",
   "metadata": {
    "id": "mofMRjSZHP99"
   },
   "source": [
    "#### Questão 4\n",
    "Escreva um programa que leia valores médios de preços de um modelo de carro por 3 anos consecutivos e exiba o valor mais alto e mais baixo entre esses três anos."
   ]
  },
  {
   "cell_type": "code",
   "execution_count": 15,
   "metadata": {
    "id": "TX--d3k9-02c"
   },
   "outputs": [
    {
     "name": "stdout",
     "output_type": "stream",
     "text": [
      "Digite o valor médio do preço no 1º ano: 0\n",
      "Digite o valor médio do preço no 2º ano: 0\n",
      "Digite o valor médio do preço no 3º ano:0\n",
      "O valor mais alto entre os três anos é: 0.0\n",
      "O valor mais baixo entre os três anos é: 0.0\n"
     ]
    }
   ],
   "source": [
    "# Solicitar ao usuário os valores médios dos preços para cada ano\n",
    "preco_ano1 = float(input(\"Digite o valor médio do preço no 1º ano: \"))\n",
    "preco_ano2 = float(input(\"Digite o valor médio do preço no 2º ano: \"))\n",
    "preco_ano3 = float(input(\"Digite o valor médio do preço no 3º ano:\"))\n",
    "\n",
    "# Encontrar o valor mais alto e mais baixo\n",
    "valor_maximo = max(preco_ano1, preco_ano2, preco_ano3)\n",
    "valor_minimo = min(preco_ano1, preco_ano2, preco_ano3)\n",
    "\n",
    "# Exibir os resultados\n",
    "print(f\"O valor mais alto entre os três anos é: {valor_maximo}\")\n",
    "print(f\"O valor mais baixo entre os três anos é: {valor_minimo}\")\n",
    "\n"
   ]
  },
  {
   "cell_type": "markdown",
   "metadata": {
    "id": "jY5tIwd-HQzc"
   },
   "source": [
    "#### Questão 5\n",
    "Escreva um programa que pergunte sobre o preço de três produtos e indique qual é o produto mais barato para comprar."
   ]
  },
  {
   "cell_type": "code",
   "execution_count": 16,
   "metadata": {
    "id": "sYqNh9df-0gk"
   },
   "outputs": [
    {
     "name": "stdout",
     "output_type": "stream",
     "text": [
      "Digite o preço do primeiro produto: R$ 30\n",
      "Digite o preço do segundo produto: R$ 190\n",
      "Digite o preço do terceiro produto: R$ 220\n",
      "Você deve comprar o primeiro produto, que é o mais barato.\n"
     ]
    }
   ],
   "source": [
    "# Solicitar ao usuário os preços dos três produtos\n",
    "preco1 = float(input(\"Digite o preço do primeiro produto: R$ \"))\n",
    "preco2 = float(input(\"Digite o preço do segundo produto: R$ \"))\n",
    "preco3 = float(input(\"Digite o preço do terceiro produto: R$ \"))\n",
    "\n",
    "# Determinar qual produto é o mais barato\n",
    "if preco1 < preco2 and preco1 < preco3:\n",
    "    print(\"Você deve comprar o primeiro produto, que é o mais barato.\")\n",
    "elif preco2 < preco1 and preco2 < preco3:\n",
    "    print(\"Você deve comprar o segundo produto, que é o mais barato.\")\n",
    "elif preco3 < preco1 and preco3 < preco2:\n",
    "    print(\"Você deve comprar o terceiro produto, que é o mais barato.\")\n",
    "else:\n",
    "    print(\"Há mais de um produto com o menor preço.\")\n"
   ]
  },
  {
   "cell_type": "markdown",
   "metadata": {
    "id": "1r6aVxtTHR4E"
   },
   "source": [
    "#### Questão 6\n",
    "Escreva um programa que leia três números e os exiba em ordem decrescente."
   ]
  },
  {
   "cell_type": "code",
   "execution_count": 17,
   "metadata": {
    "id": "ydOCYUMO-0Hk"
   },
   "outputs": [
    {
     "name": "stdout",
     "output_type": "stream",
     "text": [
      "Digite o primeiro número: 10\n",
      "Digite o segundo número: 90\n",
      "Digite o terceiro número: 120\n",
      "Os números em ordem decrescente são:\n",
      "120.0\n",
      "90.0\n",
      "10.0\n"
     ]
    }
   ],
   "source": [
    "# Solicitar ao usuário que insira três números\n",
    "numero1 = float(input(\"Digite o primeiro número: \"))\n",
    "numero2 = float(input(\"Digite o segundo número: \"))\n",
    "numero3 = float(input(\"Digite o terceiro número: \"))\n",
    "\n",
    "# Criar uma lista com os números e ordená-los em ordem decrescente\n",
    "numeros = [numero1, numero2, numero3]\n",
    "numeros.sort(reverse=True)\n",
    "\n",
    "# Exibir os números em ordem decrescente\n",
    "print(\"Os números em ordem decrescente são:\")\n",
    "for numero in numeros:\n",
    "    print(numero)"
   ]
  },
  {
   "cell_type": "markdown",
   "metadata": {
    "id": "inW3F-hAHS_X"
   },
   "source": [
    "#### Questão 7\n",
    "Escreva um programa que pergunte em qual turno a pessoa usuária estuda (\"manhã\", \"tarde\" ou \"noite\") e exiba a mensagem \"Bom Dia!\", \"Boa Tarde!\", \"Boa Noite!\", ou \"Valor Inválido!\", conforme o caso."
   ]
  },
  {
   "cell_type": "code",
   "execution_count": 20,
   "metadata": {
    "id": "-_q-Pcr_-zth"
   },
   "outputs": [
    {
     "name": "stdout",
     "output_type": "stream",
     "text": [
      "Em qual turno você estuda? (manhã/tarde/noite): manhã\n",
      "Bom Dia!\n"
     ]
    }
   ],
   "source": [
    "# Solicitar ao usuário em qual turno estuda\n",
    "turno = input(\"Em qual turno você estuda? (manhã/tarde/noite): \").lower()\n",
    "\n",
    "# Exibir a mensagem apropriada\n",
    "if turno == \"manhã\":\n",
    "    print(\"Bom Dia!\")\n",
    "elif turno == \"tarde\":\n",
    "    print(\"Boa Tarde!\")\n",
    "elif turno == \"noite\":\n",
    "    print(\"Boa Noite!\")\n",
    "else:\n",
    "    print(\"Valor Inválido!\")"
   ]
  },
  {
   "cell_type": "markdown",
   "metadata": {
    "id": "NCCPF3QqHTw-"
   },
   "source": [
    "#### Questão 8\n",
    "Escreva um programa que peça um número inteiro à pessoa usuária e determine se ele é par ou ímpar. Dica: Você pode utilizar o operador módulo `%`."
   ]
  },
  {
   "cell_type": "code",
   "execution_count": 22,
   "metadata": {
    "id": "OmZJt1nQ-3e6"
   },
   "outputs": [
    {
     "name": "stdout",
     "output_type": "stream",
     "text": [
      "Digite um número inteiro: 3\n",
      "O número é ímpar.\n"
     ]
    }
   ],
   "source": [
    "# Solicitar ao usuário um número inteiro\n",
    "numero = int(input(\"Digite um número inteiro: \"))\n",
    "\n",
    "# Determinar se o número é par ou ímpar\n",
    "if numero % 2 == 0:\n",
    "    print(\"O número é par.\")\n",
    "else:\n",
    "    print(\"O número é ímpar.\")"
   ]
  },
  {
   "cell_type": "markdown",
   "metadata": {
    "id": "h93Ck1tQHUwE"
   },
   "source": [
    "#### Questão 9\n",
    "Escreva um programa que peça um número à pessoa usuária e informe se ele é inteiro ou decimal."
   ]
  },
  {
   "cell_type": "code",
   "execution_count": 27,
   "metadata": {
    "id": "sLMlZcx8-20N"
   },
   "outputs": [
    {
     "name": "stdout",
     "output_type": "stream",
     "text": [
      "Digite um número: 3\n",
      "O número é inteiro.\n"
     ]
    }
   ],
   "source": [
    "# Solicitar ao usuário que insira um número\n",
    "numero = input(\"Digite um número: \")\n",
    "\n",
    "# Verificar se o número é inteiro ou decimal\n",
    "try:\n",
    "    if \".\" in numero:  # Verifica se há um ponto decimal na entrada\n",
    "        float(numero)  # Tenta converter para float\n",
    "        print(\"O número é decimal.\")\n",
    "    else:\n",
    "        int(numero)  # Tenta converter para inteiro\n",
    "        print(\"O número é inteiro.\")\n",
    "except ValueError:\n",
    "    print(\"A entrada não é um número válido.\")"
   ]
  },
  {
   "cell_type": "markdown",
   "metadata": {
    "id": "bKdXSK1SH_pF"
   },
   "source": [
    "### Momento dos projetos"
   ]
  },
  {
   "cell_type": "markdown",
   "metadata": {
    "id": "WBlEyyzsHV86"
   },
   "source": [
    "#### Questão 10\n",
    "Um programa deve ser escrito para ler dois números e, em seguida, perguntar à pessoa usuária qual operação ele deseja realizar. O resultado da operação deve incluir informações sobre o número - se é par ou ímpar, positivo ou negativo e inteiro ou decimal."
   ]
  },
  {
   "cell_type": "code",
   "execution_count": 28,
   "metadata": {
    "id": "3jmahZ0f-2gq"
   },
   "outputs": [
    {
     "name": "stdout",
     "output_type": "stream",
     "text": [
      "Digite o primeiro número: 40\n",
      "Digite o segundo número: 58\n",
      "Escolha uma operação: \n",
      "1 - Soma\n",
      "2 - Subtração\n",
      "3 - Multiplicação\n",
      "4 - Divisão\n",
      "Digite o número correspondente à operação desejada: 4\n",
      "\n",
      "Resultado da operação (Divisão): 0.6896551724137931\n",
      "O resultado é um número ímpar, positivo e decimal.\n"
     ]
    }
   ],
   "source": [
    "# Funções auxiliares para verificar informações sobre os números\n",
    "def verificar_par_ou_impar(numero):\n",
    "    return \"par\" if numero % 2 == 0 else \"ímpar\"\n",
    "\n",
    "def verificar_positivo_ou_negativo(numero):\n",
    "    return \"positivo\" if numero > 0 else \"negativo\" if numero < 0 else \"neutro\"\n",
    "\n",
    "def verificar_inteiro_ou_decimal(numero):\n",
    "    return \"inteiro\" if numero == int(numero) else \"decimal\"\n",
    "\n",
    "# Solicitar ao usuário dois números\n",
    "numero1 = float(input(\"Digite o primeiro número: \"))\n",
    "numero2 = float(input(\"Digite o segundo número: \"))\n",
    "\n",
    "# Perguntar ao usuário qual operação ele deseja realizar\n",
    "print(\"Escolha uma operação: \")\n",
    "print(\"1 - Soma\")\n",
    "print(\"2 - Subtração\")\n",
    "print(\"3 - Multiplicação\")\n",
    "print(\"4 - Divisão\")\n",
    "operacao = int(input(\"Digite o número correspondente à operação desejada: \"))\n",
    "\n",
    "# Realizar a operação escolhida\n",
    "if operacao == 1:\n",
    "    resultado = numero1 + numero2\n",
    "    operacao_str = \"Soma\"\n",
    "elif operacao == 2:\n",
    "    resultado = numero1 - numero2\n",
    "    operacao_str = \"Subtração\"\n",
    "elif operacao == 3:\n",
    "    resultado = numero1 * numero2\n",
    "    operacao_str = \"Multiplicação\"\n",
    "elif operacao == 4:\n",
    "    if numero2 != 0:\n",
    "        resultado = numero1 / numero2\n",
    "        operacao_str = \"Divisão\"\n",
    "    else:\n",
    "        print(\"Erro: divisão por zero não é permitida.\")\n",
    "        exit()\n",
    "else:\n",
    "    print(\"Operação inválida.\")\n",
    "    exit()\n",
    "\n",
    "# Exibir o resultado e informações sobre o número\n",
    "print(f\"\\nResultado da operação ({operacao_str}): {resultado}\")\n",
    "print(f\"O resultado é um número {verificar_par_ou_impar(resultado)}, {verificar_positivo_ou_negativo(resultado)} e {verificar_inteiro_ou_decimal(resultado)}.\")"
   ]
  },
  {
   "cell_type": "markdown",
   "metadata": {
    "id": "VdnlULxHHW19"
   },
   "source": [
    "#### Questão 11\n",
    "Escreva um programa que peça à pessoa usuária três números que representam os lados de um triângulo. O programa deve informar se os valores podem ser utilizados para formar um triângulo e, caso afirmativo, se ele é equilátero, isósceles ou escaleno. Tenha em mente algumas dicas:\n",
    "- Três lados formam um triângulo quando a soma de quaisquer dois lados for maior que o terceiro;\n",
    "- Triângulo Equilátero: três lados iguais;\n",
    "- Triângulo Isósceles: quaisquer dois lados iguais;\n",
    "- Triângulo Escaleno: três lados diferentes;\n"
   ]
  },
  {
   "cell_type": "code",
   "execution_count": 29,
   "metadata": {
    "id": "0z73sqUO-2Pw"
   },
   "outputs": [
    {
     "name": "stdout",
     "output_type": "stream",
     "text": [
      "Digite o valor do primeiro lado: 20\n",
      "Digite o valor do segundo lado: 29\n",
      "Digite o valor do terceiro lado: 10\n",
      "Os valores podem formar um triângulo.\n",
      "O triângulo é escaleno.\n"
     ]
    }
   ],
   "source": [
    "# Solicitar ao usuário os três lados do triângulo\n",
    "lado1 = float(input(\"Digite o valor do primeiro lado: \"))\n",
    "lado2 = float(input(\"Digite o valor do segundo lado: \"))\n",
    "lado3 = float(input(\"Digite o valor do terceiro lado: \"))\n",
    "\n",
    "# Verificar se os lados podem formar um triângulo\n",
    "if (lado1 + lado2 > lado3) and (lado1 + lado3 > lado2) and (lado2 + lado3 > lado1):\n",
    "    print(\"Os valores podem formar um triângulo.\")\n",
    "    \n",
    "    # Verificar o tipo de triângulo\n",
    "    if lado1 == lado2 == lado3:\n",
    "        print(\"O triângulo é equilátero.\")\n",
    "    elif lado1 == lado2 or lado1 == lado3 or lado2 == lado3:\n",
    "        print(\"O triângulo é isósceles.\")\n",
    "    else:\n",
    "        print(\"O triângulo é escaleno.\")\n",
    "else:\n",
    "    print(\"Os valores não podem formar um triângulo.\")"
   ]
  },
  {
   "cell_type": "markdown",
   "metadata": {
    "id": "_PpEpOugHXwZ"
   },
   "source": [
    "#### Questão 12\n",
    "Um estabelecimento está vendendo combustíveis com descontos variados. Para o etanol, se a quantidade comprada for até 15 litros, o desconto será de 2% por litro. Caso contrário, será de 4% por litro. Para o diesel, se a quantidade comprada for até 15 litros, o desconto será de 3% por litro. Caso contrário, será de 5% por litro. O preço do litro de diesel é R\\$ 2,00 e o preço do litro de etanol é R\\$ 1,70. Escreva um programa que leia a quantidade de litros vendidos e o tipo de combustível (E para etanol e D para diesel) e calcule o valor a ser pago pelo cliente. Tenha em mente algumas dicas:\n",
    "\n",
    "- O do valor do desconto será a multiplicação entre preço do litro, quantidade de litros e o valor do desconto.\n",
    "- O valor a ser pago por um cliente será o resultado da multiplicação do preço do litro pela quantidade de litros menos o valor de desconto resultante do cálculo.\n"
   ]
  },
  {
   "cell_type": "code",
   "execution_count": 30,
   "metadata": {
    "id": "9izoF-0O-1yD"
   },
   "outputs": [
    {
     "name": "stdout",
     "output_type": "stream",
     "text": [
      "Digite a quantidade de litros vendidos: 10.000\n",
      "Digite o tipo de combustível (E para etanol, D para diesel): E\n",
      "Valor do desconto: R$ 0.34\n",
      "Valor a pagar: R$ 16.66\n"
     ]
    }
   ],
   "source": [
    "# Preços dos combustíveis por litro\n",
    "preco_etanol = 1.70\n",
    "preco_diesel = 2.00\n",
    "\n",
    "# Solicitar ao usuário a quantidade de litros e o tipo de combustível\n",
    "quantidade_litros = float(input(\"Digite a quantidade de litros vendidos: \"))\n",
    "tipo_combustivel = input(\"Digite o tipo de combustível (E para etanol, D para diesel): \").upper()\n",
    "\n",
    "# Inicializar variáveis de preço e desconto\n",
    "preco_litro = 0\n",
    "desconto = 0\n",
    "\n",
    "# Calcular o desconto e o valor a pagar com base no tipo de combustível e quantidade\n",
    "if tipo_combustivel == \"E\":\n",
    "    preco_litro = preco_etanol\n",
    "    if quantidade_litros <= 15:\n",
    "        desconto = 0.02  # 2% de desconto por litro\n",
    "    else:\n",
    "        desconto = 0.04  # 4% de desconto por litro\n",
    "elif tipo_combustivel == \"D\":\n",
    "    preco_litro = preco_diesel\n",
    "    if quantidade_litros <= 15:\n",
    "        desconto = 0.03  # 3% de desconto por litro\n",
    "    else:\n",
    "        desconto = 0.05  # 5% de desconto por litro\n",
    "else:\n",
    "    print(\"Tipo de combustível inválido.\")\n",
    "    exit()\n",
    "\n",
    "# Calcular o valor do desconto e o valor final a pagar\n",
    "valor_desconto = preco_litro * quantidade_litros * desconto\n",
    "valor_a_pagar = (preco_litro * quantidade_litros) - valor_desconto\n",
    "\n",
    "# Exibir o resultado\n",
    "print(f\"Valor do desconto: R$ {valor_desconto:.2f}\")\n",
    "print(f\"Valor a pagar: R$ {valor_a_pagar:.2f}\")"
   ]
  },
  {
   "cell_type": "markdown",
   "metadata": {
    "id": "s_XS_D1WHY2R"
   },
   "source": [
    "#### Questão 13\n",
    "Em uma empresa de venda de imóveis você precisa criar um código que analise os dados de vendas anuais para ajudar a diretoria na tomada de decisão. O código precisa coletar os dados de quantidade de venda durante os anos de 2022 e 2023 e fazer um cálculo de variação percentual. A partir do valor da variação, deve ser enviada às seguintes sugestões:\n",
    "- Para variação acima de 20%: bonificação para o time de vendas.\n",
    "- Para variação entre 2% e 20%: pequena bonificação para time de vendas.\n",
    "- Para variação entre 2% e -10%: planejamento de políticas de incentivo às vendas.\n",
    "- Para bonificações abaixo de -10%: corte de gastos.\n"
   ]
  },
  {
   "cell_type": "code",
   "execution_count": 31,
   "metadata": {
    "id": "avQrYlUg-w8f"
   },
   "outputs": [
    {
     "name": "stdout",
     "output_type": "stream",
     "text": [
      "Digite a quantidade de vendas no ano de 2022: 23.000\n",
      "Digite a quantidade de vendas no ano de 2023: 57.000\n",
      "Variação percentual: 147.83%\n",
      "Sugestão: Bonificação para o time de vendas.\n"
     ]
    }
   ],
   "source": [
    "# Solicitar as quantidades de vendas dos anos de 2022 e 2023\n",
    "vendas_2022 = float(input(\"Digite a quantidade de vendas no ano de 2022: \"))\n",
    "vendas_2023 = float(input(\"Digite a quantidade de vendas no ano de 2023: \"))\n",
    "\n",
    "# Calcular a variação percentual\n",
    "variacao_percentual = ((vendas_2023 - vendas_2022) / vendas_2022) * 100\n",
    "\n",
    "# Exibir a variação percentual\n",
    "print(f\"Variação percentual: {variacao_percentual:.2f}%\")\n",
    "\n",
    "# Enviar sugestões com base na variação\n",
    "if variacao_percentual > 20:\n",
    "    print(\"Sugestão: Bonificação para o time de vendas.\")\n",
    "elif 2 <= variacao_percentual <= 20:\n",
    "    print(\"Sugestão: Pequena bonificação para o time de vendas.\")\n",
    "elif -10 <= variacao_percentual < 2:\n",
    "    print(\"Sugestão: Planejamento de políticas de incentivo às vendas.\")\n",
    "else:\n",
    "    print(\"Sugestão: Corte de gastos.\")"
   ]
  },
  {
   "cell_type": "markdown",
   "metadata": {
    "id": "AuaWh4-d2Itt"
   },
   "source": [
    "## Aula 4 - Estruturas de repetição"
   ]
  },
  {
   "cell_type": "markdown",
   "metadata": {
    "id": "6MSqU0sIJRdD"
   },
   "source": [
    "### Aquecendo na programação"
   ]
  },
  {
   "cell_type": "markdown",
   "metadata": {
    "id": "9eGGyCnAJRdQ"
   },
   "source": [
    "#### Questão 1\n",
    "Escreva um programa que peça dois números inteiros e imprima todos os números inteiros entre eles."
   ]
  },
  {
   "cell_type": "code",
   "execution_count": null,
   "metadata": {
    "id": "ID1oc1hxJRdQ"
   },
   "outputs": [],
   "source": []
  },
  {
   "cell_type": "markdown",
   "metadata": {
    "id": "mGonEHYCJRdR"
   },
   "source": [
    "#### Questão 2\n",
    "Escreva um programa para calcular quantos dias levará para a colônia de uma bactéria A ultrapassar ou igualar a colônia de uma bactéria B, com base nas taxas de crescimento de 3% e 1,5% respectivamente. Considere que a colônia A inicia com 4 elementos e a colônia B com 10 elementos."
   ]
  },
  {
   "cell_type": "code",
   "execution_count": null,
   "metadata": {
    "id": "wM6FJuoqJRdR"
   },
   "outputs": [],
   "source": []
  },
  {
   "cell_type": "markdown",
   "metadata": {
    "id": "UiOZRlqoJRdR"
   },
   "source": [
    "#### Questão 3\n",
    "Para tratar uma quantidade de 15 dados de avaliações de pessoas usuárias de um serviço da empresa, precisamos verificar se as notas são válidas. Então, escreva um programa que vai receber a nota de 0 a 5 de todos os dados e verificar se é um valor válido. Caso seja inserido uma nota acima de 5 ou abaixo de 0, repita até que a pessoa usuária insira um valor válido."
   ]
  },
  {
   "cell_type": "code",
   "execution_count": null,
   "metadata": {
    "id": "3TUAhCxcJRdR"
   },
   "outputs": [],
   "source": []
  },
  {
   "cell_type": "markdown",
   "metadata": {
    "id": "ABv3KObGJRdR"
   },
   "source": [
    "#### Questão 4\n",
    "Desenvolva um programa que leia um conjunto indeterminado de temperaturas em Celsius e faça uma análise. Portanto, escreva um programa que leia temperaturas e informe a média delas. A leitura deve ser encerrada ao ser enviado o valor -273°C."
   ]
  },
  {
   "cell_type": "code",
   "execution_count": null,
   "metadata": {
    "id": "85tBBj5KJRdS"
   },
   "outputs": [],
   "source": []
  },
  {
   "cell_type": "markdown",
   "metadata": {
    "id": "IjkbAfGcJRdS"
   },
   "source": [
    "#### Questão 5\n",
    "Escreva um programa que calcule o fatorial de um número inteiro fornecido pela pessoa usuária. O fatorial de um número inteiro é a multiplicação desse número por todos os seus antecessores até o número 1. Por exemplo, o fatorial de 5 é 5 x 4 x 3 x 2 x 1 = 120."
   ]
  },
  {
   "cell_type": "code",
   "execution_count": null,
   "metadata": {
    "id": "7RTH8o0HJRdS"
   },
   "outputs": [],
   "source": []
  },
  {
   "cell_type": "markdown",
   "metadata": {
    "id": "oGNKuQjsJRdT"
   },
   "source": [
    "### Momento dos projetos"
   ]
  },
  {
   "cell_type": "markdown",
   "metadata": {
    "id": "ODxaTUYmJRdS"
   },
   "source": [
    "#### Questão 6\n",
    "Escreva um programa que gere a tabuada de um número inteiro de 1 a 10, de acordo com a escolha da pessoa usuária. Como exemplo, para o número 2, a tabuada deve ser mostrada no seguinte formato:\n",
    "```\n",
    "Tabuada do 2:\n",
    "2 x 1 = 2\n",
    "2 x 2 = 4\n",
    "[...]\n",
    "2 x 10 = 20\n",
    "```"
   ]
  },
  {
   "cell_type": "code",
   "execution_count": null,
   "metadata": {
    "id": "lkTlbxPIJRdS"
   },
   "outputs": [],
   "source": []
  },
  {
   "cell_type": "markdown",
   "metadata": {
    "id": "LeIbnt8VJRdS"
   },
   "source": [
    "#### Questão 7\n",
    "Os números primos possuem várias aplicações dentro da Ciência de Dados, por exemplo, na criptografia e segurança. Um número primo é aquele que é divisível apenas por um e por ele mesmo. Faça um programa que peça um número inteiro e determine se ele é ou não um número primo."
   ]
  },
  {
   "cell_type": "code",
   "execution_count": null,
   "metadata": {
    "id": "2rcNU7twJRdS"
   },
   "outputs": [],
   "source": []
  },
  {
   "cell_type": "markdown",
   "metadata": {
    "id": "QTwb6QaCJRdT"
   },
   "source": [
    "#### Questão 8\n",
    "Vamos entender a distribuição de idades de pensionistas de uma empresa de previdência. Escreva um programa que leia as idades de uma quantidade não informada de clientes e mostre a distribuição em intervalos de [0-25], [26-50], [51-75] e [76-100]. Encerre a entrada de dados com um número negativo."
   ]
  },
  {
   "cell_type": "code",
   "execution_count": null,
   "metadata": {
    "id": "4IAhaDmYJRdT"
   },
   "outputs": [],
   "source": []
  },
  {
   "cell_type": "markdown",
   "metadata": {
    "id": "soJCQVwRJRdT"
   },
   "source": [
    "#### Questão 9\n",
    "Em uma eleição para gerência em uma empresa com 20 funcionários, existem quatro candidatos. Escreva um programa que calcule o vencedor da eleição. A votação ocorreu da seguinte maneira:\n",
    "- Cada funcionário votou em um dos quatro candidatos (representados pelos números 1, 2, 3 e 4).\n",
    "- Também foram contabilizados os votos nulos (representado pelo número 5) e os votos em branco (representado pelo número 6).\n",
    "\n",
    "Ao final da votação, o programa deve exibir o total de votos para cada candidato, o número de votos nulos e o número de votos em branco. Além disso, deve calcular e exibir a porcentagem de votos nulos em relação ao total de votos e a porcentagem de votos em branco em relação ao total de votos."
   ]
  },
  {
   "cell_type": "code",
   "execution_count": null,
   "metadata": {
    "id": "041EFrgG-4gR"
   },
   "outputs": [],
   "source": []
  },
  {
   "cell_type": "markdown",
   "metadata": {
    "id": "eijHQiNU2IZ7"
   },
   "source": [
    "## Aula 5 - Estruturas de dados"
   ]
  },
  {
   "cell_type": "markdown",
   "metadata": {
    "id": "92F0bKtBMgd7"
   },
   "source": [
    "### Aquecendo na programação"
   ]
  },
  {
   "cell_type": "markdown",
   "metadata": {
    "id": "IypX2ANuMgeC"
   },
   "source": [
    "#### Questão 1\n",
    "Faça um programa que tenha a seguinte lista contendo os valores de gastos de uma empresa de papel `[2172.54, 3701.35, 3518.09, 3456.61, 3249.38, 2840.82, 3891.45, 3075.26, 2317.64, 3219.08]`. Com esses valores, faça um programa que calcule a média de gastos. Dica, use as funções built-in [`sum()`](https://docs.python.org/3/library/functions.html#sum) e [`len()`](https://docs.python.org/3/library/functions.html#len)."
   ]
  },
  {
   "cell_type": "code",
   "execution_count": null,
   "metadata": {
    "id": "ge3LuFhLMgeD"
   },
   "outputs": [],
   "source": []
  },
  {
   "cell_type": "markdown",
   "metadata": {
    "id": "xrOeLhQkMgeD"
   },
   "source": [
    "#### Questão 2\n",
    " Com os mesmos dados da questão anterior, defina quantas compras foram acima de 3000 reais e calcule a porcentagem quanto ao total de compras."
   ]
  },
  {
   "cell_type": "code",
   "execution_count": null,
   "metadata": {
    "id": "Ygu5TMZyMgeD"
   },
   "outputs": [],
   "source": []
  },
  {
   "cell_type": "markdown",
   "metadata": {
    "id": "JgCOrE_BMgeD"
   },
   "source": [
    "#### Questão 3\n",
    "Faça um código que colete em uma lista 5 números inteiros quaisquer e imprima a lista. Exemplo: `[1,4,7,2,4]`."
   ]
  },
  {
   "cell_type": "code",
   "execution_count": null,
   "metadata": {
    "id": "vtM9O1hLMgeD"
   },
   "outputs": [],
   "source": []
  },
  {
   "cell_type": "markdown",
   "metadata": {
    "id": "p3bTp88HMgeD"
   },
   "source": [
    "#### Questão 4\n",
    "Colete novamente 5 inteiros e imprima a lista em ordem inversa à enviada."
   ]
  },
  {
   "cell_type": "code",
   "execution_count": null,
   "metadata": {
    "id": "-CGwMIyHMgeD"
   },
   "outputs": [],
   "source": []
  },
  {
   "cell_type": "markdown",
   "metadata": {
    "id": "eIXd_z1lMgeD"
   },
   "source": [
    "#### Questão 5\n",
    "Faça um programa que, ao inserir um número qualquer, criará uma lista contendo todos os números primos entre 1 e o número digitado."
   ]
  },
  {
   "cell_type": "code",
   "execution_count": null,
   "metadata": {
    "id": "rj_6GHstMgeE"
   },
   "outputs": [],
   "source": []
  },
  {
   "cell_type": "markdown",
   "metadata": {
    "id": "zrbz3ENlMgeE"
   },
   "source": [
    "#### Questão 6\n",
    "Escreva um programa que peça uma data informando o dia, mês e ano e determine se ela é uma data válida para uma análise."
   ]
  },
  {
   "cell_type": "code",
   "execution_count": null,
   "metadata": {
    "id": "0eYA8UjTMgeE"
   },
   "outputs": [],
   "source": []
  },
  {
   "cell_type": "markdown",
   "metadata": {
    "id": "ut_4VHdGMgeE"
   },
   "source": [
    "### Momento dos projetos"
   ]
  },
  {
   "cell_type": "markdown",
   "metadata": {
    "id": "G86Z0vD_MgeE"
   },
   "source": [
    "#### Questão 7\n",
    "Para um estudo envolvendo o nível de multiplicação de bactérias em uma colônia, foi coletado o número de bactérias multiplicadas por dia, com base em um processo de duplicação diária e pode ser observado a seguir: `[1.2, 2.1, 3.3, 5.0, 7.8, 11.3, 16.6, 25.1, 37.8, 56.9]`. Tendo esses valores, faça um código que gere uma lista contendo o percentual de crescimento de bactérias por dia, comparando o número de bactérias em cada dia com o número de bactérias do dia anterior. Dica: para calcular o percentual de crescimento usamos a seguinte equação: `100 * (amostra_atual - amostra_passada) / (amostra_passada)`."
   ]
  },
  {
   "cell_type": "code",
   "execution_count": null,
   "metadata": {
    "id": "PXNO_CFkMgeE"
   },
   "outputs": [],
   "source": []
  },
  {
   "cell_type": "markdown",
   "metadata": {
    "id": "p4nxogpnMgeE"
   },
   "source": [
    "#### Questão 8\n",
    "Para uma seleção de produtos alimentícios, precisamos separar o conjunto de IDs dados por números inteiros, sabendo que os produtos com ID par são doces e os com ID ímpar são amargos. Monte um código que colete 10 IDs. Depois, calcule e mostre a quantidade de produtos doces e amargos."
   ]
  },
  {
   "cell_type": "code",
   "execution_count": null,
   "metadata": {
    "id": "WqjO2SZkMgeE"
   },
   "outputs": [],
   "source": []
  },
  {
   "cell_type": "markdown",
   "metadata": {
    "id": "t5OrLxV6MgeE"
   },
   "source": [
    "#### Questão 9\n",
    "Desenvolva um programa que informa a nota de um aluno de acordo com suas respostas. Ele deve pedir a resposta de um aluno para cada questão e é preciso verificar se a resposta foi igual ao gabarito. Cada questão vale um ponto e existem alternativas:  A, B, C ou D.\n",
    "```\n",
    "Gabarito da Prova:\n",
    "01 - D\n",
    "02 - A\n",
    "03 - C\n",
    "04 - B\n",
    "05 - A\n",
    "06 - D\n",
    "07 - C\n",
    "08 - C\n",
    "09 - A\n",
    "10 - B\n",
    "```"
   ]
  },
  {
   "cell_type": "code",
   "execution_count": null,
   "metadata": {
    "id": "ytIQDJrQMgeE"
   },
   "outputs": [],
   "source": []
  },
  {
   "cell_type": "markdown",
   "metadata": {
    "id": "aSBMzh-AMgeF"
   },
   "source": [
    "#### Questão 10\n",
    "Um instituto de meteorologia deseja fazer um estudo de temperatura média de cada mês do ano. Para isso, você precisa fazer um código que colete e armazene essas temperaturas médias em uma lista. Depois, calcule a média anual das temperaturas e mostre todas as temperaturas acima da média anual, e em que mês elas ocorreram, mostrando os meses por extenso: Janeiro, Fevereiro, etc."
   ]
  },
  {
   "cell_type": "code",
   "execution_count": null,
   "metadata": {
    "id": "ftj04s2uMgeF"
   },
   "outputs": [],
   "source": []
  },
  {
   "cell_type": "markdown",
   "metadata": {
    "id": "0X8S6s4jMgeF"
   },
   "source": [
    "#### Questão 11\n",
    "Uma empresa de e-commerce está interessada em analisar as vendas dos seus produtos. Os dados das vendas foram armazenados em um dicionário:\n",
    "```\n",
    "{'Produto A': 300, 'Produto B': 80, 'Produto C': 60,\n",
    " 'Produto D': 200, 'Produto E': 250, 'Produto F': 30}\n",
    "```\n",
    "Escreva um código que calcule o total de vendas e o produto mais vendido."
   ]
  },
  {
   "cell_type": "code",
   "execution_count": null,
   "metadata": {
    "id": "Xa3DJLtFMgeF"
   },
   "outputs": [],
   "source": []
  },
  {
   "cell_type": "markdown",
   "metadata": {
    "id": "nrEwf_1ZMgeF"
   },
   "source": [
    "#### Questão 12\n",
    "Uma pesquisa de mercado foi feita para decidir qual design de uma marca infantil mais agrada crianças. A pesquisa foi feita e o votos computados podem ser observados abaixo:\n",
    "```\n",
    "'''\n",
    "Tabela de votos da marca\n",
    "Design 1 - 1334 votos\n",
    "Design 2 - 982 votos\n",
    "Design 3 - 1751 votos\n",
    "Design 4 - 210 votos\n",
    "Design 5 - 1811 votos\n",
    "'''\n",
    "```\n",
    "Adapte os dados fornecidos a você para uma estrutura de dicionário e a partir dele, informe o design vencedor e a porcentagem de votos recebidos.\n"
   ]
  },
  {
   "cell_type": "code",
   "execution_count": null,
   "metadata": {
    "id": "MRPcGR-_MgeF"
   },
   "outputs": [],
   "source": []
  },
  {
   "cell_type": "markdown",
   "metadata": {
    "id": "HRTFFzKIMgeF"
   },
   "source": [
    "#### Questão 13\n",
    "Os funcionários de um setor da empresa que você trabalha vão receber um abono correspondente a 10% do seu salário devido ao ótimo desempenho do time. O setor financeiro solicitou sua ajuda para a verificação das consequências financeiras que esse abono irá gerar nos recursos. Assim, foi encaminhada para você uma lista com os salários que receberão o abono: `[1172, 1644, 2617, 5130, 5532, 6341, 6650, 7238, 7685, 7782, 7903]`. O abono de cada funcionário não pode ser inferior a 200. Em código, transforme cada um dos salários em chaves de um dicionário e o abono de cada salário no elemento. Depois, informe o total de gastos com o abono, quantos funcionários receberam o abono mínimo e qual o maior valor de abono fornecido.\n"
   ]
  },
  {
   "cell_type": "code",
   "execution_count": null,
   "metadata": {
    "id": "QsDSCua42bLB"
   },
   "outputs": [],
   "source": []
  },
  {
   "cell_type": "markdown",
   "metadata": {
    "id": "6dEXZEwjMlWy"
   },
   "source": [
    "#### Questão 14\n",
    "Uma equipe de cientistas de dados está estudando a diversidade biológica em uma floresta. A equipe fez a coleta de informações sobre o número de espécies de plantas e animais em cada área da floresta e armazenaram essas informações em um dicionário. Nele, a chave descreve a área dos dados e os valores nas listas correspondem às espécies de plantas e animais nas áreas, respectivamente.\n",
    "```\n",
    "{'Área Norte': [2819, 7236],\n",
    " 'Área Leste': [1440, 9492],\n",
    " 'Área Sul': [5969, 7496],\n",
    " 'Área Oeste': [14446, 49688],\n",
    " 'Área Centro': [22558, 45148]}\n",
    "```\n",
    "Escreva um código para calcular a média de espécies por área e identificar a área com a maior diversidade biológica. Dica: use as funções built-in [`sum()`](https://docs.python.org/3/library/functions.html#sum) e [`len()`](https://docs.python.org/3/library/functions.html#len).\n"
   ]
  },
  {
   "cell_type": "code",
   "execution_count": null,
   "metadata": {
    "id": "eQnOUDfYMlWy"
   },
   "outputs": [],
   "source": []
  },
  {
   "cell_type": "markdown",
   "metadata": {
    "id": "r0RW2Sy_MlWy"
   },
   "source": [
    "#### Questão 15\n",
    "O setor de RH da sua empresa te pediu uma ajuda para analisar as idades dos funcionários de 4 setores da empresa. Para isso, ele te forneceu os seguintes dados:\n",
    "```\n",
    "{'Setor A': [22, 26, 30, 30, 35, 38, 40, 56, 57, 65],\n",
    " 'Setor B': [22, 24, 26, 33, 41, 49, 50, 54, 60, 64],\n",
    " 'Setor C': [23, 26, 26, 29, 34, 35, 36, 41, 52, 56],\n",
    " 'Setor D': [19, 20, 25, 27, 34, 39, 42, 44, 50, 65]}\n",
    "``` \n",
    "Sabendo que cada setor tem 10 funcionários, construa um código que calcule a média de idade de cada setor, a idade média geral entre todos os setores e quantas pessoas estão acima da idade média geral.\n"
   ]
  },
  {
   "cell_type": "code",
   "execution_count": null,
   "metadata": {
    "id": "wCiwyKP3MmTz"
   },
   "outputs": [],
   "source": []
  }
 ],
 "metadata": {
  "colab": {
   "authorship_tag": "ABX9TyNAcHMa4C+Q6J7M1CkYm1Tn",
   "provenance": [],
   "toc_visible": true
  },
  "kernelspec": {
   "display_name": "Python 3 (ipykernel)",
   "language": "python",
   "name": "python3"
  },
  "language_info": {
   "codemirror_mode": {
    "name": "ipython",
    "version": 3
   },
   "file_extension": ".py",
   "mimetype": "text/x-python",
   "name": "python",
   "nbconvert_exporter": "python",
   "pygments_lexer": "ipython3",
   "version": "3.9.13"
  }
 },
 "nbformat": 4,
 "nbformat_minor": 1
}
